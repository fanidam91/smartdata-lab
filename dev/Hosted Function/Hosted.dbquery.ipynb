{
 "cells": [
  {
   "cell_type": "code",
   "execution_count": 0,
   "metadata": {
    "application/vnd.databricks.v1+cell": {
     "cellMetadata": {
      "byteLimit": 10485760,
      "rowLimit": 64000
     },
     "inputWidgets": {},
     "nuid": "0bbd666b-f841-491a-b45c-0140877e4572",
     "showTitle": false,
     "tableResultSettingsMap": {},
     "title": ""
    }
   },
   "outputs": [],
   "source": [
    "CREATE OR REPLACE FUNCTION default.lookup_electronics_item(\n",
    "  product_name STRING COMMENT 'Name of the product to look up. for instance if user query is \"how much does green webcam cost\", then product anem is \"webcam\" and not \"green webcam\"',\n",
    "  product_colour STRING COMMENT 'Colour of the product to look up.'\n",
    ")\n",
    "RETURNS STRING\n",
    "COMMENT 'Returns metadata about a specific product in the electronics_items dataset, including its ID, price, and description.'\n",
    "RETURN SELECT CONCAT(\n",
    "    'Product ID: ', productID, ', ',\n",
    "    'Product Name: ', productName, ', ',\n",
    "    'Product Colour: ', colour, ', ',\n",
    "    'Price: ', price, ', '\n",
    "  )\n",
    "  FROM default.electronics_products\n",
    "  WHERE LOWER(productName) = LOWER(product_name) \n",
    "    AND LOWER(colour) = LOWER(product_colour)\n",
    "  LIMIT 1;"
   ]
  }
 ],
 "metadata": {
  "application/vnd.databricks.v1+notebook": {
   "computePreferences": null,
   "dashboards": [],
   "environmentMetadata": null,
   "inputWidgetPreferences": null,
   "language": "sql",
   "notebookMetadata": {
    "pythonIndentUnit": 4,
    "sqlQueryOptions": {
     "applyAutoLimit": false,
     "catalog": "novas",
     "schema": "default"
    }
   },
   "notebookName": "Hosted.dbquery.ipynb",
   "widgets": {}
  },
  "language_info": {
   "name": "sql"
  }
 },
 "nbformat": 4,
 "nbformat_minor": 0
}
