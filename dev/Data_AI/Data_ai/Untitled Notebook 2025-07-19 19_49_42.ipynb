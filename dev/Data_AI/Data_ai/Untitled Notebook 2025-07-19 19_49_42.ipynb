{
 "cells": [
  {
   "cell_type": "code",
   "execution_count": 0,
   "metadata": {
    "application/vnd.databricks.v1+cell": {
     "cellMetadata": {
      "byteLimit": 2048000,
      "rowLimit": 10000
     },
     "inputWidgets": {},
     "nuid": "84d55412-44f9-4667-a7a0-052aba80a37c",
     "showTitle": false,
     "tableResultSettingsMap": {},
     "title": ""
    }
   },
   "outputs": [],
   "source": [
    "\n",
    "\n",
    "%sh\n",
    "rm -r /dbfs/spark_lab\n",
    "mkdir /dbfs/spark_lab\n",
    "wget -O /dbfs/spark_lab/2019.csv https://github.com/fanidam91/smartdata-lab/blob/Dev/dev/Data%26AI/Data%26ai/2019.csv\n",
    "wget -O /dbfs/spark_lab/2020.csv https://github.com/fanidam91/smartdata-lab/blob/Dev/dev/Data%26AI/Data%26ai/2020.csv\n",
    "wget -O /dbfs/spark_lab/2021.csv  https://github.com/fanidam91/smartdata-lab/blob/Dev/dev/Data%26AI/Data%26ai/2021.csv"
   ]
  }
 ],
 "metadata": {
  "application/vnd.databricks.v1+notebook": {
   "computePreferences": null,
   "dashboards": [],
   "environmentMetadata": {
    "base_environment": "",
    "environment_version": "2"
   },
   "inputWidgetPreferences": null,
   "language": "python",
   "notebookMetadata": {
    "mostRecentlyExecutedCommandWithImplicitDF": {
     "commandId": 4755401614581848,
     "dataframes": [
      "_sqldf"
     ]
    },
    "pythonIndentUnit": 4
   },
   "notebookName": "Untitled Notebook 2025-07-19 19_49_42",
   "widgets": {}
  },
  "language_info": {
   "name": "python"
  }
 },
 "nbformat": 4,
 "nbformat_minor": 0
}
