{
 "cells": [
  {
   "cell_type": "markdown",
   "metadata": {
    "application/vnd.databricks.v1+cell": {
     "cellMetadata": {},
     "inputWidgets": {},
     "nuid": "e78b0768-2d9b-4d48-bf26-1f404d4a0d3c",
     "showTitle": false,
     "tableResultSettingsMap": {},
     "title": ""
    }
   },
   "source": [
    "The Basic OpenAI Chat Completion approach using the openai SDK (specifically with AzureOpenAI) is ideal for quick prototyping with Azure-hosted OpenAI models like GPT-3.5 or GPT-4. It uses a familiar API format similar to OpenAI's public APIs, where prompts are passed in a plain chat structure. This method is well-suited for developers who want to get started quickly and build simple applications using text-only prompts. It allows optional authentication via API key and is primarily focused on OpenAI-compatible chat models deployed in the Azure OpenAI resource.\n",
    "\n",
    "In contrast, the AI Foundry model integration via the azure-ai-inference SDK is a more enterprise-focused approach. It supports a wider range of models—including non-OpenAI LLMs like LLaMA, Mistral, and Meta models—that are hosted through Azure AI Studio or AI Foundry. This SDK uses a more structured format for inputs and supports multimodal capabilities, such as combining text and images. It requires AzureKeyCredential for stricter security and is optimized for integration with production environments like Azure ML, Databricks, and Mosaic AI. While it's slightly more verbose to implement, it is more powerful and flexible for large-scale or diverse use cases."
   ]
  },
  {
   "cell_type": "markdown",
   "metadata": {
    "application/vnd.databricks.v1+cell": {
     "cellMetadata": {},
     "inputWidgets": {},
     "nuid": "060fa4bb-05fc-492d-91c4-fc324c5f1ea9",
     "showTitle": false,
     "tableResultSettingsMap": {},
     "title": ""
    }
   },
   "source": [
    "##Install the openai SDK"
   ]
  },
  {
   "cell_type": "code",
   "execution_count": 0,
   "metadata": {
    "application/vnd.databricks.v1+cell": {
     "cellMetadata": {},
     "inputWidgets": {},
     "nuid": "a644265a-b92a-4f9b-ae43-9b28668f8bfb",
     "showTitle": false,
     "tableResultSettingsMap": {},
     "title": ""
    }
   },
   "outputs": [],
   "source": [
    "%pip install openai==1.56.0"
   ]
  },
  {
   "cell_type": "markdown",
   "metadata": {
    "application/vnd.databricks.v1+cell": {
     "cellMetadata": {},
     "inputWidgets": {},
     "nuid": "31c37535-3cb0-461b-b48d-d9e502ddf765",
     "showTitle": false,
     "tableResultSettingsMap": {},
     "title": ""
    }
   },
   "source": [
    "##Restarting our Python Environment"
   ]
  },
  {
   "cell_type": "code",
   "execution_count": 0,
   "metadata": {
    "application/vnd.databricks.v1+cell": {
     "cellMetadata": {},
     "inputWidgets": {},
     "nuid": "90544ec4-ea83-4f7e-a891-0fbf1c3f7ae8",
     "showTitle": false,
     "tableResultSettingsMap": {},
     "title": ""
    }
   },
   "outputs": [],
   "source": [
    "dbutils.library.restartPython()"
   ]
  },
  {
   "cell_type": "markdown",
   "metadata": {
    "application/vnd.databricks.v1+cell": {
     "cellMetadata": {},
     "inputWidgets": {},
     "nuid": "2830b771-31bd-41a2-87e5-488c0206bdcf",
     "showTitle": false,
     "tableResultSettingsMap": {},
     "title": ""
    }
   },
   "source": [
    "##Creating an Azure OpenAI Client"
   ]
  },
  {
   "cell_type": "code",
   "execution_count": 0,
   "metadata": {
    "application/vnd.databricks.v1+cell": {
     "cellMetadata": {},
     "inputWidgets": {},
     "nuid": "007e26a6-00ba-40f5-96cb-7e1fe764cf85",
     "showTitle": false,
     "tableResultSettingsMap": {},
     "title": ""
    }
   },
   "outputs": [],
   "source": [
    "from openai import AzureOpenAI\n",
    "\n",
    "openai_client = AzureOpenAI(\n",
    "    azure_endpoint = \"YOUR-AZURE-OPENAI-ENDPOINT\",\n",
    "    api_key = \"YOUR-AZURE-OPENAI-API-KEY\",\n",
    "    api_version=\"2024-02-15-preview\"\n",
    ")\n",
    "     "
   ]
  },
  {
   "cell_type": "markdown",
   "metadata": {
    "application/vnd.databricks.v1+cell": {
     "cellMetadata": {},
     "inputWidgets": {},
     "nuid": "03b36130-e2ff-4797-82d1-e07b03ebcb59",
     "showTitle": false,
     "tableResultSettingsMap": {},
     "title": ""
    }
   },
   "source": [
    "#Writing code for the Chat Completions API\n",
    "#Defining the system prompt"
   ]
  },
  {
   "cell_type": "code",
   "execution_count": 0,
   "metadata": {
    "application/vnd.databricks.v1+cell": {
     "cellMetadata": {},
     "inputWidgets": {},
     "nuid": "ff70017d-0463-4078-adb6-682496269830",
     "showTitle": false,
     "tableResultSettingsMap": {},
     "title": ""
    }
   },
   "outputs": [],
   "source": [
    "system_prompt = f\"\"\" You are a helpful AI assistant meant to answer the user query \"\"\""
   ]
  },
  {
   "cell_type": "markdown",
   "metadata": {
    "application/vnd.databricks.v1+cell": {
     "cellMetadata": {},
     "inputWidgets": {},
     "nuid": "418c62b4-0a16-4731-bece-c03e394cdc12",
     "showTitle": false,
     "tableResultSettingsMap": {},
     "title": ""
    }
   },
   "source": [
    "##Defining the user prompt/ user query"
   ]
  },
  {
   "cell_type": "code",
   "execution_count": 0,
   "metadata": {
    "application/vnd.databricks.v1+cell": {
     "cellMetadata": {},
     "inputWidgets": {},
     "nuid": "92501d3d-9d39-482c-bc79-e5a733f0eba6",
     "showTitle": false,
     "tableResultSettingsMap": {},
     "title": ""
    }
   },
   "outputs": [],
   "source": [
    "\n",
    "user_prompt = f\"\"\" Hi how are you?\"\"\""
   ]
  },
  {
   "cell_type": "markdown",
   "metadata": {
    "application/vnd.databricks.v1+cell": {
     "cellMetadata": {},
     "inputWidgets": {},
     "nuid": "bd209879-f27c-48d6-abad-6294095e14ea",
     "showTitle": false,
     "tableResultSettingsMap": {},
     "title": ""
    }
   },
   "source": [
    "##Making a call to the GPT engine"
   ]
  },
  {
   "cell_type": "code",
   "execution_count": 0,
   "metadata": {
    "application/vnd.databricks.v1+cell": {
     "cellMetadata": {},
     "inputWidgets": {},
     "nuid": "4ecddc26-6537-475f-9f84-75d6004f1b7d",
     "showTitle": false,
     "tableResultSettingsMap": {},
     "title": ""
    }
   },
   "outputs": [],
   "source": [
    "gpt_response = openai_client.chat.completions.create(\n",
    "    model = \"YOUR-MODEL-NAME\",\n",
    "    messages = [\n",
    "        {\n",
    "            \"role\":\"system\", \"content\": f\"{system_prompt}\"\n",
    "        },\n",
    "        {\n",
    "            \"role\":\"user\", \"content\": f\"{user_prompt}\"\n",
    "        }\n",
    "    ],\n",
    "    temperature = 0.7\n",
    ")\n",
    "\n",
    "print(gpt_response.choices[0].message.content)"
   ]
  },
  {
   "cell_type": "markdown",
   "metadata": {
    "application/vnd.databricks.v1+cell": {
     "cellMetadata": {},
     "inputWidgets": {},
     "nuid": "6308a96b-e802-404f-ac66-7b9b32cfaca1",
     "showTitle": false,
     "tableResultSettingsMap": {},
     "title": ""
    }
   },
   "source": [
    "#Generating a custom Python function using Mlflow that can be served as a Mosaic AI endpoint"
   ]
  },
  {
   "cell_type": "code",
   "execution_count": 0,
   "metadata": {
    "application/vnd.databricks.v1+cell": {
     "cellMetadata": {},
     "inputWidgets": {},
     "nuid": "f3bed5de-8a9c-40a4-8641-1eb7e8f18ae2",
     "showTitle": false,
     "tableResultSettingsMap": {},
     "title": ""
    }
   },
   "outputs": [],
   "source": [
    "import mlflow\n",
    "from mlflow import pyfunc\n",
    "from openai import AzureOpenAI\n",
    "\n",
    "class BasicChatBot(pyfunc.PythonModel):\n",
    "      def __init__(self, GPT_model):\n",
    "          self.GPT_model = GPT_model\n",
    "\n",
    "      def chatCompletionsAPI(self, user_query):\n",
    "          \n",
    "          openai_client = AzureOpenAI(\n",
    "            azure_endpoint = \"YOUR-AZURE-OPENAI-ENDPOINT\",\n",
    "            api_key = \"YOUR-AZURE-OPENAI-API-KEY\",\n",
    "            api_version = \"2024-02-15-preview\"\n",
    "          )\n",
    "          response = openai_client.chat.completions.create(\n",
    "            model = self.GPT_model,\n",
    "            messages = [\n",
    "                {\n",
    "                    \"role\":\"system\",\n",
    "                    \"content\":\"You are a helpful AI assistant\"\n",
    "                },\n",
    "                {\n",
    "                    \"role\":\"user\",\n",
    "                    \"content\":f\"{user_query}\"\n",
    "                }\n",
    "            ],\n",
    "            temperature = 0.7\n",
    "          )\n",
    "\n",
    "          return response.choices[0].message.content\n",
    "\n",
    "      def predict(self, context, data):\n",
    "          user_query = data[\"user_query\"].iloc[0]\n",
    "          gpt_response = self.chatCompletionsAPI(user_query)\n",
    "          return gpt_response\n",
    "\n",
    "      "
   ]
  },
  {
   "cell_type": "markdown",
   "metadata": {
    "application/vnd.databricks.v1+cell": {
     "cellMetadata": {},
     "inputWidgets": {},
     "nuid": "46378c64-2f24-486b-8e94-843a1e779db1",
     "showTitle": false,
     "tableResultSettingsMap": {},
     "title": ""
    }
   },
   "source": [
    "##Saving our model"
   ]
  },
  {
   "cell_type": "code",
   "execution_count": 0,
   "metadata": {
    "application/vnd.databricks.v1+cell": {
     "cellMetadata": {},
     "inputWidgets": {},
     "nuid": "03b61f75-c42f-43d6-abee-b0b64f48ebaf",
     "showTitle": false,
     "tableResultSettingsMap": {},
     "title": ""
    }
   },
   "outputs": [],
   "source": [
    "test_model = BasicChatBot(GPT_model=\"YOUR_MODEL_NAME\")"
   ]
  },
  {
   "cell_type": "code",
   "execution_count": 0,
   "metadata": {
    "application/vnd.databricks.v1+cell": {
     "cellMetadata": {},
     "inputWidgets": {},
     "nuid": "f3bebf7e-6348-4414-90c1-1ad6e222a754",
     "showTitle": false,
     "tableResultSettingsMap": {},
     "title": ""
    }
   },
   "outputs": [],
   "source": [
    "\n",
    "from mlflow.models import infer_signature\n",
    "import pandas as pd\n",
    "\n",
    "signature = infer_signature(pd.DataFrame([{\"user_query\": \"hello how are you?\"}]))\n",
    "model_path = \"basicchatbot\"\n",
    "mlflow.pyfunc.save_model(path=model_path, python_model=test_model, signature=signature)"
   ]
  },
  {
   "cell_type": "markdown",
   "metadata": {
    "application/vnd.databricks.v1+cell": {
     "cellMetadata": {},
     "inputWidgets": {},
     "nuid": "527bbc54-f559-4a71-b95c-9f8cdcf3369a",
     "showTitle": false,
     "tableResultSettingsMap": {},
     "title": ""
    }
   },
   "source": [
    "##Loading our Saved Model"
   ]
  },
  {
   "cell_type": "code",
   "execution_count": 0,
   "metadata": {
    "application/vnd.databricks.v1+cell": {
     "cellMetadata": {},
     "inputWidgets": {},
     "nuid": "00c91d6a-eec8-4e82-9e22-1e51cbe67bfa",
     "showTitle": false,
     "tableResultSettingsMap": {},
     "title": ""
    }
   },
   "outputs": [],
   "source": [
    "\n",
    "# Load our custom model from the local artifact store\n",
    "loaded_pyfunc_model = mlflow.pyfunc.load_model(model_path)\n"
   ]
  },
  {
   "cell_type": "markdown",
   "metadata": {
    "application/vnd.databricks.v1+cell": {
     "cellMetadata": {},
     "inputWidgets": {},
     "nuid": "4ad32ba3-2384-4eec-962d-32b2b1ce0f79",
     "showTitle": false,
     "tableResultSettingsMap": {},
     "title": ""
    }
   },
   "source": [
    "##Testing our saved model"
   ]
  },
  {
   "cell_type": "code",
   "execution_count": 0,
   "metadata": {
    "application/vnd.databricks.v1+cell": {
     "cellMetadata": {},
     "inputWidgets": {},
     "nuid": "1ac54285-5db7-4cf5-b0a1-e90a86b246b4",
     "showTitle": false,
     "tableResultSettingsMap": {},
     "title": ""
    }
   },
   "outputs": [],
   "source": [
    "\n",
    "model_input = pd.DataFrame([{\"user_query\": \"hello how are you?\"}])\n",
    "\n",
    "model_response = loaded_pyfunc_model.predict(model_input)\n",
    "\n",
    "print(model_response)"
   ]
  },
  {
   "cell_type": "markdown",
   "metadata": {
    "application/vnd.databricks.v1+cell": {
     "cellMetadata": {},
     "inputWidgets": {},
     "nuid": "279257d7-91e7-47d7-858a-610f9973490d",
     "showTitle": false,
     "tableResultSettingsMap": {},
     "title": ""
    }
   },
   "source": [
    "##Logging our saved/loaded model"
   ]
  },
  {
   "cell_type": "code",
   "execution_count": 0,
   "metadata": {
    "application/vnd.databricks.v1+cell": {
     "cellMetadata": {},
     "inputWidgets": {},
     "nuid": "527bf2e3-fc8d-4add-afed-4f99c1fa0436",
     "showTitle": false,
     "tableResultSettingsMap": {},
     "title": ""
    }
   },
   "outputs": [],
   "source": [
    "\n",
    "import mlflow\n",
    "\n",
    "# Log the model as an artifact\n",
    "with mlflow.start_run() as run:\n",
    "    mlflow.log_artifacts(local_dir=model_path, artifact_path=\"BasicChatBot\")\n",
    "    print(f\"Model logged with run ID: {run.info.run_id}\")"
   ]
  },
  {
   "cell_type": "markdown",
   "metadata": {
    "application/vnd.databricks.v1+cell": {
     "cellMetadata": {},
     "inputWidgets": {},
     "nuid": "7eb2f7ce-e5b5-4e63-a23b-ef4d77a7ae4d",
     "showTitle": false,
     "tableResultSettingsMap": {},
     "title": ""
    }
   },
   "source": [
    "##Inferencing the real-time endpoint"
   ]
  },
  {
   "cell_type": "code",
   "execution_count": 0,
   "metadata": {
    "application/vnd.databricks.v1+cell": {
     "cellMetadata": {},
     "inputWidgets": {},
     "nuid": "ccacda7b-9b7d-4137-a17e-512f66d518d8",
     "showTitle": false,
     "tableResultSettingsMap": {},
     "title": ""
    }
   },
   "outputs": [],
   "source": [
    "\n",
    "{\n",
    "  \"dataframe_records\":[\n",
    "    {\n",
    "        \"user_query\":\"tell me something about India\"\n",
    "    }\n",
    "  ]\n",
    "}"
   ]
  }
 ],
 "metadata": {
  "application/vnd.databricks.v1+notebook": {
   "computePreferences": null,
   "dashboards": [],
   "environmentMetadata": {
    "base_environment": "",
    "environment_version": "2"
   },
   "inputWidgetPreferences": null,
   "language": "python",
   "notebookMetadata": {
    "pythonIndentUnit": 4
   },
   "notebookName": "Building Basic ChatBot with Azure Databricks.ipynb",
   "widgets": {}
  },
  "language_info": {
   "name": "python"
  }
 },
 "nbformat": 4,
 "nbformat_minor": 0
}
