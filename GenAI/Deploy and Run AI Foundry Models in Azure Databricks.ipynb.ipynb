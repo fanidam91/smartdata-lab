{
 "cells": [
  {
   "cell_type": "markdown",
   "metadata": {
    "application/vnd.databricks.v1+cell": {
     "cellMetadata": {},
     "inputWidgets": {},
     "nuid": "ee8643aa-ca38-496c-8d44-e200cc49a61d",
     "showTitle": false,
     "tableResultSettingsMap": {},
     "title": ""
    }
   },
   "source": [
    "#Deploy and Run AI Foundry Models in Azure Databricks\n",
    "##Install the Azure-AI-Inference SDK"
   ]
  },
  {
   "cell_type": "markdown",
   "metadata": {
    "application/vnd.databricks.v1+cell": {
     "cellMetadata": {},
     "inputWidgets": {},
     "nuid": "13e30e56-9101-43f1-8146-77b695035d8d",
     "showTitle": false,
     "tableResultSettingsMap": {},
     "title": ""
    }
   },
   "source": [
    "🔍 Use Case: AI Assistant for Company Policies\n",
    "🎯 Goal:\n",
    "Build an AI assistant that answers employee questions about company policies (e.g., leave policy, work from home rules) by:\n",
    "\n",
    "Searching documents stored in Databricks (PDFs, Word files, etc.)\n",
    "\n",
    "Using Azure OpenAI (via azure-ai-inference) to generate the final answer\n",
    "\n",
    "⚙️ Steps Overview:\n",
    "Ingest documents into a Delta table\n",
    "\n",
    "Split text into chunks + store embeddings\n",
    "\n",
    "Enable vector search using databricks-vectorsearch\n",
    "\n",
    "Retrieve top relevant chunks\n",
    "\n",
    "Use azure-ai-inference to generate the final answer"
   ]
  },
  {
   "cell_type": "code",
   "execution_count": 0,
   "metadata": {
    "application/vnd.databricks.v1+cell": {
     "cellMetadata": {},
     "inputWidgets": {},
     "nuid": "70ed32f9-25e7-4b4a-9a73-c927eba2807f",
     "showTitle": false,
     "tableResultSettingsMap": {},
     "title": ""
    }
   },
   "outputs": [],
   "source": [
    "%pip install azure-ai-inference\n",
    "     "
   ]
  },
  {
   "cell_type": "code",
   "execution_count": 0,
   "metadata": {
    "application/vnd.databricks.v1+cell": {
     "cellMetadata": {},
     "inputWidgets": {},
     "nuid": "2db15917-fc77-4d91-a5cd-5c1f0acfe601",
     "showTitle": false,
     "tableResultSettingsMap": {},
     "title": ""
    }
   },
   "outputs": [],
   "source": [
    "from azure.ai.inference import ChatCompletionsClient\n",
    "from azure.ai.inference.models import SystemMessage, UserMessage\n",
    "from azure.ai.inference.models import ImageContentItem, ImageUrl, TextContentItem\n",
    "from azure.core.credentials import AzureKeyCredential"
   ]
  },
  {
   "cell_type": "markdown",
   "metadata": {
    "application/vnd.databricks.v1+cell": {
     "cellMetadata": {},
     "inputWidgets": {},
     "nuid": "89dda907-a2bb-4c87-9f14-3c267bea7613",
     "showTitle": false,
     "tableResultSettingsMap": {},
     "title": ""
    }
   },
   "source": [
    "##Populate the Environment Variables"
   ]
  },
  {
   "cell_type": "code",
   "execution_count": 0,
   "metadata": {
    "application/vnd.databricks.v1+cell": {
     "cellMetadata": {},
     "inputWidgets": {},
     "nuid": "c46f3ec3-8924-4b30-93ae-ca47b2cc7861",
     "showTitle": false,
     "tableResultSettingsMap": {},
     "title": ""
    }
   },
   "outputs": [],
   "source": [
    "ai_foundry_model_endpoint = \"\"\n",
    "ai_foundry_model_api_key = \"\"\n",
    "ai_foundry_model_deployment_name = \"\"\n"
   ]
  },
  {
   "cell_type": "markdown",
   "metadata": {
    "application/vnd.databricks.v1+cell": {
     "cellMetadata": {},
     "inputWidgets": {},
     "nuid": "84dd1388-e560-4b0f-8022-87dc35f55ab6",
     "showTitle": false,
     "tableResultSettingsMap": {},
     "title": ""
    }
   },
   "source": [
    "##Optional!1"
   ]
  },
  {
   "cell_type": "code",
   "execution_count": 0,
   "metadata": {
    "application/vnd.databricks.v1+cell": {
     "cellMetadata": {},
     "inputWidgets": {},
     "nuid": "f7593dec-a3c7-49cb-84fa-87bd6c5b4eda",
     "showTitle": false,
     "tableResultSettingsMap": {},
     "title": ""
    }
   },
   "outputs": [],
   "source": [
    "with open(\"/dbfs/FileStore/tables/leave_policy.txt\", \"r\") as f:\n",
    "    policy_text = f.read()\n",
    "\n",
    "user_prompt = f\"\"\"Context: {policy_text}\n",
    "\n",
    "Question: {your_input_question}\"\"\"\n"
   ]
  },
  {
   "cell_type": "markdown",
   "metadata": {
    "application/vnd.databricks.v1+cell": {
     "cellMetadata": {},
     "inputWidgets": {},
     "nuid": "3e50df4f-2b55-45f4-8b0c-dd822e636717",
     "showTitle": false,
     "tableResultSettingsMap": {},
     "title": ""
    }
   },
   "source": [
    "##Optional2"
   ]
  },
  {
   "cell_type": "code",
   "execution_count": 0,
   "metadata": {
    "application/vnd.databricks.v1+cell": {
     "cellMetadata": {},
     "inputWidgets": {},
     "nuid": "d7e0d2e9-d5f9-43be-948b-92e9df0a5072",
     "showTitle": false,
     "tableResultSettingsMap": {},
     "title": ""
    }
   },
   "outputs": [],
   "source": [
    "try:\n",
    "    response = call_ai_foundry_catalog_model(...)\n",
    "    print(\"AI Response:\", response)\n",
    "except Exception as e:\n",
    "    print(\"Error calling model:\", e)"
   ]
  },
  {
   "cell_type": "markdown",
   "metadata": {
    "application/vnd.databricks.v1+cell": {
     "cellMetadata": {},
     "inputWidgets": {},
     "nuid": "47c04773-7c42-4cb4-8310-299efe2c184d",
     "showTitle": false,
     "tableResultSettingsMap": {},
     "title": ""
    }
   },
   "source": [
    "##Create a function to call the AI Foundry Model"
   ]
  },
  {
   "cell_type": "code",
   "execution_count": 0,
   "metadata": {
    "application/vnd.databricks.v1+cell": {
     "cellMetadata": {},
     "inputWidgets": {},
     "nuid": "5c151dec-7122-44dd-ab46-42e5caf40151",
     "showTitle": false,
     "tableResultSettingsMap": {},
     "title": ""
    }
   },
   "outputs": [],
   "source": [
    "def call_ai_foundry_catalog_model(user_prompt, system_prompt, ai_foundry_model_endpoint, ai_foundry_model_api_key):\n",
    "    client = ChatCompletionsClient(\n",
    "        endpoint = ai_foundry_model_endpoint,\n",
    "        credential = AzureKeyCredential(ai_foundry_model_api_key),\n",
    "        api_version = \"2024-05-01-preview\"\n",
    "    )\n",
    "\n",
    "    messages = [\n",
    "        {\n",
    "            \"role\":\"system\",\n",
    "            \"content\":f\"{system_prompt}\"\n",
    "        },\n",
    "        {\n",
    "            \"role\":\"user\",\n",
    "            \"content\":[\n",
    "                {\n",
    "                    \"type\":\"text\",\n",
    "                    \"text\":f\"{user_prompt}\"\n",
    "                }\n",
    "            ]\n",
    "        }\n",
    "    ]\n",
    "\n",
    "    response = client.complete(\n",
    "        messages=messages,\n",
    "        temperature=0.7,\n",
    "        \n",
    "    )\n",
    "\n",
    "    return response.choices[0].message.content\n"
   ]
  },
  {
   "cell_type": "markdown",
   "metadata": {
    "application/vnd.databricks.v1+cell": {
     "cellMetadata": {},
     "inputWidgets": {},
     "nuid": "926a88dc-f63b-4d19-87cc-d3011f164dc5",
     "showTitle": false,
     "tableResultSettingsMap": {},
     "title": ""
    }
   },
   "source": [
    "##Create a Basic Chat App"
   ]
  },
  {
   "cell_type": "code",
   "execution_count": 0,
   "metadata": {
    "application/vnd.databricks.v1+cell": {
     "cellMetadata": {},
     "inputWidgets": {},
     "nuid": "72f1b7cf-1eb8-4410-9c7f-303a38eb3017",
     "showTitle": false,
     "tableResultSettingsMap": {},
     "title": ""
    }
   },
   "outputs": [],
   "source": [
    "\n",
    "system_prompt = \"You are a helpful assistant.\"\n",
    "while True:\n",
    "    user_prompt = input(\"Enter your message: \")\n",
    "    response = call_ai_foundry_catalog_model(user_prompt, system_prompt, ai_foundry_model_endpoint, ai_foundry_model_api_key)\n",
    "    print(\"AI Response: \", response)\n",
    "    if user_prompt == \"exit\":\n",
    "        break"
   ]
  },
  {
   "cell_type": "markdown",
   "metadata": {
    "application/vnd.databricks.v1+cell": {
     "cellMetadata": {},
     "inputWidgets": {},
     "nuid": "548be163-7565-4fe3-b20c-cb4093b8235a",
     "showTitle": false,
     "tableResultSettingsMap": {},
     "title": ""
    }
   },
   "source": [
    "##Futuyreupligfft "
   ]
  },
  {
   "cell_type": "markdown",
   "metadata": {
    "application/vnd.databricks.v1+cell": {
     "cellMetadata": {},
     "inputWidgets": {},
     "nuid": "3c59f49d-e1b2-45b7-8756-40c3b155d81a",
     "showTitle": false,
     "tableResultSettingsMap": {},
     "title": ""
    }
   },
   "source": [
    "##Deploy with a Simple Web UI (Best for Internal Use)"
   ]
  },
  {
   "cell_type": "code",
   "execution_count": 0,
   "metadata": {
    "application/vnd.databricks.v1+cell": {
     "cellMetadata": {},
     "inputWidgets": {},
     "nuid": "209ac995-1518-474b-a122-e6104f8949d9",
     "showTitle": false,
     "tableResultSettingsMap": {},
     "title": ""
    }
   },
   "outputs": [],
   "source": [
    "import gradio as gr\n",
    "\n",
    "def chat_with_ai(user_input):\n",
    "    return call_ai_foundry_catalog_model(user_input, system_prompt, ai_foundry_model_endpoint, ai_foundry_model_api_key)\n",
    "\n",
    "gr.ChatInterface(fn=chat_with_ai, title=\"Company Policy Assistant\").launch()\n"
   ]
  },
  {
   "cell_type": "code",
   "execution_count": 0,
   "metadata": {
    "application/vnd.databricks.v1+cell": {
     "cellMetadata": {},
     "inputWidgets": {},
     "nuid": "e620d1b5-d220-4572-b942-9e9c4243707b",
     "showTitle": false,
     "tableResultSettingsMap": {},
     "title": ""
    }
   },
   "outputs": [],
   "source": [
    "import smtplib\n",
    "from email.mime.text import MIMEText\n",
    "\n",
    "msg = MIMEText(ai_response)\n",
    "msg['Subject'] = \"AI Answer: Your HR Policy Question\"\n",
    "msg['From'] = \"bot@company.com\"\n",
    "msg['To'] = \"user@example.com\"\n",
    "\n",
    "with smtplib.SMTP(\"smtp.office365.com\", 587) as server:\n",
    "    server.starttls()\n",
    "    server.login(\"your_email\", \"your_password\")\n",
    "    server.send_message(msg)\n"
   ]
  }
 ],
 "metadata": {
  "application/vnd.databricks.v1+notebook": {
   "computePreferences": null,
   "dashboards": [],
   "environmentMetadata": {
    "base_environment": "",
    "environment_version": "2"
   },
   "inputWidgetPreferences": null,
   "language": "python",
   "notebookMetadata": {
    "pythonIndentUnit": 4
   },
   "notebookName": "Deploy and Run AI Foundry Models in Azure Databricks.ipynb",
   "widgets": {}
  },
  "language_info": {
   "name": "python"
  }
 },
 "nbformat": 4,
 "nbformat_minor": 0
}
